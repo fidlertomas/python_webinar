{
 "cells": [
  {
   "cell_type": "code",
   "execution_count": 1,
   "metadata": {},
   "outputs": [],
   "source": [
    "import pandas as pd"
   ]
  },
  {
   "cell_type": "code",
   "execution_count": 2,
   "metadata": {},
   "outputs": [],
   "source": [
    "df = pd.read_excel('MAC_adresy.xlsx')"
   ]
  },
  {
   "cell_type": "code",
   "execution_count": 3,
   "metadata": {},
   "outputs": [
    {
     "data": {
      "text/html": [
       "<div>\n",
       "<style scoped>\n",
       "    .dataframe tbody tr th:only-of-type {\n",
       "        vertical-align: middle;\n",
       "    }\n",
       "\n",
       "    .dataframe tbody tr th {\n",
       "        vertical-align: top;\n",
       "    }\n",
       "\n",
       "    .dataframe thead th {\n",
       "        text-align: right;\n",
       "    }\n",
       "</style>\n",
       "<table border=\"1\" class=\"dataframe\">\n",
       "  <thead>\n",
       "    <tr style=\"text-align: right;\">\n",
       "      <th></th>\n",
       "      <th>Uživatel</th>\n",
       "      <th>Zařízení</th>\n",
       "      <th>MAC adresa</th>\n",
       "      <th>Switch</th>\n",
       "      <th>Port</th>\n",
       "      <th>status</th>\n",
       "    </tr>\n",
       "  </thead>\n",
       "  <tbody>\n",
       "    <tr>\n",
       "      <th>0</th>\n",
       "      <td>Jirka</td>\n",
       "      <td>notebook</td>\n",
       "      <td>0013.3b12.6826</td>\n",
       "      <td>10.0.0.111</td>\n",
       "      <td>Fa0/1</td>\n",
       "      <td>NaN</td>\n",
       "    </tr>\n",
       "    <tr>\n",
       "      <th>1</th>\n",
       "      <td>Jirka</td>\n",
       "      <td>PC</td>\n",
       "      <td>0013.3b12.6820</td>\n",
       "      <td>10.0.0.111</td>\n",
       "      <td>Fa0/3</td>\n",
       "      <td>fake</td>\n",
       "    </tr>\n",
       "    <tr>\n",
       "      <th>2</th>\n",
       "      <td>Jarda</td>\n",
       "      <td>notebook</td>\n",
       "      <td>0013.3b12.6829</td>\n",
       "      <td>10.0.0.111</td>\n",
       "      <td>Fa0/2</td>\n",
       "      <td>NaN</td>\n",
       "    </tr>\n",
       "    <tr>\n",
       "      <th>3</th>\n",
       "      <td>Jarda</td>\n",
       "      <td>PC</td>\n",
       "      <td>0013.3b12.6821</td>\n",
       "      <td>10.0.0.111</td>\n",
       "      <td>Fa0/4</td>\n",
       "      <td>fake</td>\n",
       "    </tr>\n",
       "    <tr>\n",
       "      <th>4</th>\n",
       "      <td>Petr</td>\n",
       "      <td>PC</td>\n",
       "      <td>0013.3b12.6831</td>\n",
       "      <td>10.0.0.111</td>\n",
       "      <td>Fa0/5</td>\n",
       "      <td>fake</td>\n",
       "    </tr>\n",
       "    <tr>\n",
       "      <th>5</th>\n",
       "      <td>Ondra</td>\n",
       "      <td>PC</td>\n",
       "      <td>5254.000f.8f72</td>\n",
       "      <td>10.0.0.111</td>\n",
       "      <td>Gi0/3</td>\n",
       "      <td>NaN</td>\n",
       "    </tr>\n",
       "  </tbody>\n",
       "</table>\n",
       "</div>"
      ],
      "text/plain": [
       "  Uživatel  Zařízení      MAC adresa      Switch   Port status\n",
       "0    Jirka  notebook  0013.3b12.6826  10.0.0.111  Fa0/1    NaN\n",
       "1    Jirka        PC  0013.3b12.6820  10.0.0.111  Fa0/3   fake\n",
       "2    Jarda  notebook  0013.3b12.6829  10.0.0.111  Fa0/2    NaN\n",
       "3    Jarda        PC  0013.3b12.6821  10.0.0.111  Fa0/4   fake\n",
       "4    Petr         PC  0013.3b12.6831  10.0.0.111  Fa0/5   fake\n",
       "5    Ondra        PC  5254.000f.8f72  10.0.0.111  Gi0/3    NaN"
      ]
     },
     "execution_count": 3,
     "metadata": {},
     "output_type": "execute_result"
    }
   ],
   "source": [
    "df"
   ]
  },
  {
   "cell_type": "code",
   "execution_count": 4,
   "metadata": {},
   "outputs": [
    {
     "data": {
      "text/html": [
       "<div>\n",
       "<style scoped>\n",
       "    .dataframe tbody tr th:only-of-type {\n",
       "        vertical-align: middle;\n",
       "    }\n",
       "\n",
       "    .dataframe tbody tr th {\n",
       "        vertical-align: top;\n",
       "    }\n",
       "\n",
       "    .dataframe thead th {\n",
       "        text-align: right;\n",
       "    }\n",
       "</style>\n",
       "<table border=\"1\" class=\"dataframe\">\n",
       "  <thead>\n",
       "    <tr style=\"text-align: right;\">\n",
       "      <th></th>\n",
       "      <th>Uživatel</th>\n",
       "      <th>Zařízení</th>\n",
       "      <th>MAC adresa</th>\n",
       "      <th>Switch</th>\n",
       "      <th>Port</th>\n",
       "      <th>status</th>\n",
       "    </tr>\n",
       "  </thead>\n",
       "  <tbody>\n",
       "    <tr>\n",
       "      <th>1</th>\n",
       "      <td>Jirka</td>\n",
       "      <td>PC</td>\n",
       "      <td>0013.3b12.6820</td>\n",
       "      <td>10.0.0.111</td>\n",
       "      <td>Fa0/3</td>\n",
       "      <td>fake</td>\n",
       "    </tr>\n",
       "  </tbody>\n",
       "</table>\n",
       "</div>"
      ],
      "text/plain": [
       "  Uživatel Zařízení      MAC adresa      Switch   Port status\n",
       "1    Jirka       PC  0013.3b12.6820  10.0.0.111  Fa0/3   fake"
      ]
     },
     "execution_count": 4,
     "metadata": {},
     "output_type": "execute_result"
    }
   ],
   "source": [
    "df.loc[df['MAC adresa'] == '0013.3b12.6820']"
   ]
  },
  {
   "cell_type": "code",
   "execution_count": null,
   "metadata": {},
   "outputs": [],
   "source": []
  }
 ],
 "metadata": {
  "kernelspec": {
   "display_name": "Python 3.11.0 64-bit",
   "language": "python",
   "name": "python3"
  },
  "language_info": {
   "codemirror_mode": {
    "name": "ipython",
    "version": 3
   },
   "file_extension": ".py",
   "mimetype": "text/x-python",
   "name": "python",
   "nbconvert_exporter": "python",
   "pygments_lexer": "ipython3",
   "version": "3.11.0"
  },
  "orig_nbformat": 4,
  "vscode": {
   "interpreter": {
    "hash": "72b2382ece9768098284d92bbc69d35954e75b60d1e25897d1389c232f4796f0"
   }
  }
 },
 "nbformat": 4,
 "nbformat_minor": 2
}
